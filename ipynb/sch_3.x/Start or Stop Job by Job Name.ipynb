{
 "cells": [
  {
   "cell_type": "code",
   "execution_count": null,
   "id": "f028d617",
   "metadata": {},
   "outputs": [],
   "source": [
    "# Imports\n",
    "import os\n",
    "from streamsets.sdk import ControlHub"
   ]
  },
  {
   "cell_type": "code",
   "execution_count": null,
   "id": "3856b1d9",
   "metadata": {},
   "outputs": [],
   "source": [
    "job_name = 'Job for Pipeline_1'"
   ]
  },
  {
   "cell_type": "code",
   "execution_count": null,
   "id": "a2a415ee",
   "metadata": {},
   "outputs": [],
   "source": [
    "# Init connection to Control Hub\n",
    "sch = ControlHub('https://trailer.streamsetscloud.com',\n",
    "    username=os.environ['SCH_USERNAME'],\n",
    "    password=os.environ['SCH_PASSWORD'])\n"
   ]
  },
  {
   "cell_type": "code",
   "execution_count": null,
   "id": "5d42176c",
   "metadata": {},
   "outputs": [],
   "source": [
    "# Get Job\n",
    "job = sch.jobs.get(job_name = job_name)"
   ]
  },
  {
   "cell_type": "code",
   "execution_count": null,
   "id": "fcff8278",
   "metadata": {},
   "outputs": [],
   "source": [
    "# Start Job\n",
    "sch.start_job(job)"
   ]
  },
  {
   "cell_type": "code",
   "execution_count": null,
   "id": "9ab67326",
   "metadata": {},
   "outputs": [],
   "source": [
    "# Stop Job\n",
    "#sch.stop_job(job)"
   ]
  }
 ],
 "metadata": {
  "kernelspec": {
   "display_name": "Python 3 (ipykernel)",
   "language": "python",
   "name": "python3"
  },
  "language_info": {
   "codemirror_mode": {
    "name": "ipython",
    "version": 3
   },
   "file_extension": ".py",
   "mimetype": "text/x-python",
   "name": "python",
   "nbconvert_exporter": "python",
   "pygments_lexer": "ipython3",
   "version": "3.9.5"
  }
 },
 "nbformat": 4,
 "nbformat_minor": 5
}
