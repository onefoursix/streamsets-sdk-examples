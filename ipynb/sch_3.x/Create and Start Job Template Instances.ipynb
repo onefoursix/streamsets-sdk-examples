{
 "cells": [
  {
   "cell_type": "code",
   "execution_count": 5,
   "id": "f028d617",
   "metadata": {},
   "outputs": [],
   "source": [
    "# Imports\n",
    "import os\n",
    "from streamsets.sdk import ControlHub"
   ]
  },
  {
   "cell_type": "code",
   "execution_count": 6,
   "id": "3856b1d9",
   "metadata": {},
   "outputs": [],
   "source": [
    "job_template_id = '6a071efe-7d4c-4dc4-862a-2f01cf0b0240:schbrooks'"
   ]
  },
  {
   "cell_type": "code",
   "execution_count": 7,
   "id": "a2a415ee",
   "metadata": {},
   "outputs": [],
   "source": [
    "# Init connection to Control Hub\n",
    "sch = ControlHub('https://trailer.streamsetscloud.com',\n",
    "    username=os.environ['SCH_USERNAME'],\n",
    "    password=os.environ['SCH_PASSWORD'])"
   ]
  },
  {
   "cell_type": "code",
   "execution_count": 11,
   "id": "5d42176c",
   "metadata": {},
   "outputs": [],
   "source": [
    "# Get Job Template\n",
    "job_template = sch.jobs.get(job_id = job_template_id)"
   ]
  },
  {
   "cell_type": "code",
   "execution_count": 12,
   "id": "a1d14f4f",
   "metadata": {},
   "outputs": [],
   "source": [
    "# Specify runtime parameters for the number of Job Template Instances\n",
    "# you wish to create. For this example, I'll create three instances:\n",
    "runtime_parameters = [{'parameter_1': 'Elvis', 'parameter_2': 'Presley'}, \n",
    "                      {'parameter_1': 'Wanda', 'parameter_2': 'Jackson'},\n",
    "                      {'parameter_1': 'Carl', 'parameter_2': 'Perkins'}]\n"
   ]
  },
  {
   "cell_type": "code",
   "execution_count": 13,
   "id": "f483a879",
   "metadata": {},
   "outputs": [],
   "source": [
    "# Create and Start the Job Template Instances \n",
    "jobs = sch.start_job_template(job_template,\n",
    "                              instance_name_suffix='PARAM_VALUE',\n",
    "                              parameter_name='parameter_1',\n",
    "                              runtime_parameters=runtime_parameters)"
   ]
  }
 ],
 "metadata": {
  "kernelspec": {
   "display_name": "Python 3 (ipykernel)",
   "language": "python",
   "name": "python3"
  },
  "language_info": {
   "codemirror_mode": {
    "name": "ipython",
    "version": 3
   },
   "file_extension": ".py",
   "mimetype": "text/x-python",
   "name": "python",
   "nbconvert_exporter": "python",
   "pygments_lexer": "ipython3",
   "version": "3.9.5"
  }
 },
 "nbformat": 4,
 "nbformat_minor": 5
}
