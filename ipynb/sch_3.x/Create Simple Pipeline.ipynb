{
 "cells": [
  {
   "cell_type": "code",
   "execution_count": null,
   "id": "f028d617",
   "metadata": {},
   "outputs": [],
   "source": [
    "# Imports\n",
    "import os\n",
    "from streamsets.sdk import ControlHub"
   ]
  },
  {
   "cell_type": "code",
   "execution_count": null,
   "id": "a2a415ee",
   "metadata": {},
   "outputs": [],
   "source": [
    "# Init connection to Control Hub\n",
    "sch = ControlHub('https://trailer.streamsetscloud.com',\n",
    "    username=os.environ['SCH_USERNAME'],\n",
    "    password=os.environ['SCH_PASSWORD'])"
   ]
  },
  {
   "cell_type": "code",
   "execution_count": null,
   "id": "981a9941",
   "metadata": {},
   "outputs": [],
   "source": [
    "# Get a Pipeline Builder\n",
    "pipeline_builder = sch.get_pipeline_builder()"
   ]
  },
  {
   "cell_type": "code",
   "execution_count": null,
   "id": "3e53128b",
   "metadata": {},
   "outputs": [],
   "source": [
    "# Create an Origin\n",
    "dev_data_generator = pipeline_builder.add_stage('Dev Data Generator')\n",
    "dev_data_generator.batch_size = 99;\n"
   ]
  },
  {
   "cell_type": "code",
   "execution_count": null,
   "id": "0d242191",
   "metadata": {},
   "outputs": [],
   "source": [
    "# Create a Destination\n",
    "trash = pipeline_builder.add_stage('Trash')"
   ]
  },
  {
   "cell_type": "code",
   "execution_count": null,
   "id": "cf5d8bd3",
   "metadata": {},
   "outputs": [],
   "source": [
    "# Create links(s) between pipeline stages\n",
    "dev_data_generator >> trash  "
   ]
  },
  {
   "cell_type": "code",
   "execution_count": null,
   "id": "1f657476",
   "metadata": {},
   "outputs": [],
   "source": [
    "# Build the pipeline\n",
    "sdk_example_pipeline = pipeline_builder.build('SDK Pipeline 1')"
   ]
  },
  {
   "cell_type": "code",
   "execution_count": null,
   "id": "72eaf19e",
   "metadata": {},
   "outputs": [],
   "source": [
    "# Publish the pipeline\n",
    "sch.publish_pipeline(sdk_example_pipeline)"
   ]
  },
  {
   "cell_type": "code",
   "execution_count": null,
   "id": "efa00a83",
   "metadata": {},
   "outputs": [],
   "source": [
    "help(dev_data_generator)\n"
   ]
  }
 ],
 "metadata": {
  "kernelspec": {
   "display_name": "Python 3 (ipykernel)",
   "language": "python",
   "name": "python3"
  },
  "language_info": {
   "codemirror_mode": {
    "name": "ipython",
    "version": 3
   },
   "file_extension": ".py",
   "mimetype": "text/x-python",
   "name": "python",
   "nbconvert_exporter": "python",
   "pygments_lexer": "ipython3",
   "version": "3.9.5"
  }
 },
 "nbformat": 4,
 "nbformat_minor": 5
}
