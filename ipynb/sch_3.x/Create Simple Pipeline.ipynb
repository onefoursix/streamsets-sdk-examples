{
 "cells": [
  {
   "cell_type": "code",
   "execution_count": 4,
   "id": "f028d617",
   "metadata": {},
   "outputs": [],
   "source": [
    "# Imports\n",
    "import os\n",
    "from streamsets.sdk import ControlHub"
   ]
  },
  {
   "cell_type": "code",
   "execution_count": 5,
   "id": "a2a415ee",
   "metadata": {},
   "outputs": [],
   "source": [
    "# Init connection to Control Hub\n",
    "sch = ControlHub('https://trailer.streamsetscloud.com',\n",
    "    username=os.environ['SCH_USERNAME'],\n",
    "    password=os.environ['SCH_PASSWORD'])"
   ]
  },
  {
   "cell_type": "code",
   "execution_count": 6,
   "id": "981a9941",
   "metadata": {},
   "outputs": [],
   "source": [
    "# Get a Pipeline Builder\n",
    "pipeline_builder = sch.get_pipeline_builder()"
   ]
  },
  {
   "cell_type": "code",
   "execution_count": 7,
   "id": "3e53128b",
   "metadata": {},
   "outputs": [],
   "source": [
    "# Create an Origin\n",
    "dev_data_generator = pipeline_builder.add_stage('Dev Data Generator')\n",
    "dev_data_generator.batch_size = 99;\n"
   ]
  },
  {
   "cell_type": "code",
   "execution_count": 8,
   "id": "0d242191",
   "metadata": {},
   "outputs": [],
   "source": [
    "# Create a Destination\n",
    "trash = pipeline_builder.add_stage('Trash')"
   ]
  },
  {
   "cell_type": "code",
   "execution_count": 9,
   "id": "cf5d8bd3",
   "metadata": {},
   "outputs": [
    {
     "data": {
      "text/plain": [
       "<com_streamsets_pipeline_stage_destination_devnull_NullDTarget (instance_name=Trash_01)>"
      ]
     },
     "execution_count": 9,
     "metadata": {},
     "output_type": "execute_result"
    }
   ],
   "source": [
    "# Create links(s) between pipeline stages\n",
    "dev_data_generator >> trash  "
   ]
  },
  {
   "cell_type": "code",
   "execution_count": 10,
   "id": "1f657476",
   "metadata": {},
   "outputs": [],
   "source": [
    "# Build the pipeline\n",
    "sdk_example_pipeline = pipeline_builder.build('SDK Pipeline 1')"
   ]
  },
  {
   "cell_type": "code",
   "execution_count": 11,
   "id": "72eaf19e",
   "metadata": {},
   "outputs": [
    {
     "data": {
      "text/plain": [
       "<sdk.sch_api.Command at 0x1195107f0>"
      ]
     },
     "execution_count": 11,
     "metadata": {},
     "output_type": "execute_result"
    }
   ],
   "source": [
    "# Publish the pipeline\n",
    "sch.publish_pipeline(sdk_example_pipeline)"
   ]
  },
  {
   "cell_type": "code",
   "execution_count": 12,
   "id": "efa00a83",
   "metadata": {},
   "outputs": [
    {
     "name": "stdout",
     "output_type": "stream",
     "text": [
      "Help on com_streamsets_pipeline_stage_devtest_RandomDataGeneratorSource in module streamsets.sdk.sch_models object:\n",
      "\n",
      "class com_streamsets_pipeline_stage_devtest_RandomDataGeneratorSource(SchSdcStage)\n",
      " |  com_streamsets_pipeline_stage_devtest_RandomDataGeneratorSource(stage, label=None)\n",
      " |  \n",
      " |  Stage: Dev Data Generator\n",
      " |  \n",
      " |  Attributes:\n",
      " |  batch_size                                                  header_attributes                                           \n",
      " |  delay_between_batches                                       number_of_threads                                           \n",
      " |  event_name                                                  on_record_error                                             \n",
      " |  fields_to_generate                                          root_field_type\n",
      " |  \n",
      " |  Method resolution order:\n",
      " |      com_streamsets_pipeline_stage_devtest_RandomDataGeneratorSource\n",
      " |      SchSdcStage\n",
      " |      streamsets.sdk.sdc_models.Stage\n",
      " |      builtins.object\n",
      " |  \n",
      " |  Methods inherited from SchSdcStage:\n",
      " |  \n",
      " |  use_connection(self, *connections)\n",
      " |  \n",
      " |  ----------------------------------------------------------------------\n",
      " |  Methods inherited from streamsets.sdk.sdc_models.Stage:\n",
      " |  \n",
      " |  __contains__(self, item)\n",
      " |  \n",
      " |  __dir__(self)\n",
      " |      Default dir() implementation.\n",
      " |  \n",
      " |  __ge__(self, other)\n",
      " |      Return self>=value.\n",
      " |  \n",
      " |  __getattr__(self, name)\n",
      " |  \n",
      " |  __init__(self, stage, label=None)\n",
      " |      Initialize self.  See help(type(self)) for accurate signature.\n",
      " |  \n",
      " |  __repr__(self)\n",
      " |      Return repr(self).\n",
      " |  \n",
      " |  __rshift__(self, other)\n",
      " |  \n",
      " |  __setattr__(self, name, value)\n",
      " |      Implement setattr(self, name, value).\n",
      " |  \n",
      " |  add_output(self, *other_stages, event_lane=False)\n",
      " |      Connect output of this stage to another stage.\n",
      " |      \n",
      " |      The __rshift__ operator (`>>`) has been overloaded to invoke this method.\n",
      " |      \n",
      " |      Args:\n",
      " |          other_stage (:py:class:`streamsets.sdk.sdc_models.Stage`): Stage object.\n",
      " |      \n",
      " |      Returns:\n",
      " |          This stage as an instance of :py:class:`streamsets.sdk.sdc_models.Stage`).\n",
      " |  \n",
      " |  set_attributes(self, **attributes)\n",
      " |      Set one or more stage attributes.\n",
      " |      \n",
      " |      Args:\n",
      " |          **attributes: Attributes to set.\n",
      " |      \n",
      " |      Returns:\n",
      " |          This stage as an instance of :py:class:`streamsets.sdk.sdc_models.Stage`.\n",
      " |  \n",
      " |  ----------------------------------------------------------------------\n",
      " |  Readonly properties inherited from streamsets.sdk.sdc_models.Stage:\n",
      " |  \n",
      " |  event_lanes\n",
      " |      Get the stage's list of event lanes.\n",
      " |      \n",
      " |      Returns:\n",
      " |          A :obj:`list` of event lanes.\n",
      " |  \n",
      " |  output_lanes\n",
      " |      Get the stage's list of output lanes.\n",
      " |      \n",
      " |      Returns:\n",
      " |          A :obj:`list` of output lanes.\n",
      " |  \n",
      " |  ----------------------------------------------------------------------\n",
      " |  Data descriptors inherited from streamsets.sdk.sdc_models.Stage:\n",
      " |  \n",
      " |  __dict__\n",
      " |      dictionary for instance variables (if defined)\n",
      " |  \n",
      " |  __weakref__\n",
      " |      list of weak references to the object (if defined)\n",
      " |  \n",
      " |  description\n",
      " |      :obj:`str`: The stage's description.\n",
      " |  \n",
      " |  label\n",
      " |      :obj:`str`: The stage's label.\n",
      " |  \n",
      " |  library\n",
      " |      Get the stage's library.\n",
      " |      \n",
      " |      Returns:\n",
      " |          The stage library as a :obj:`str`.\n",
      " |  \n",
      " |  stage_on_record_error\n",
      " |      The stage's on record error configuration value.\n",
      " |  \n",
      " |  stage_record_preconditions\n",
      " |      The stage's record preconditions configuration value.\n",
      " |  \n",
      " |  stage_required_fields\n",
      " |      The stage's required fields configuration value.\n",
      "\n"
     ]
    }
   ],
   "source": [
    "help(dev_data_generator)\n"
   ]
  },
  {
   "cell_type": "code",
   "execution_count": null,
   "id": "52576f58",
   "metadata": {},
   "outputs": [],
   "source": []
  }
 ],
 "metadata": {
  "kernelspec": {
   "display_name": "Python 3 (ipykernel)",
   "language": "python",
   "name": "python3"
  },
  "language_info": {
   "codemirror_mode": {
    "name": "ipython",
    "version": 3
   },
   "file_extension": ".py",
   "mimetype": "text/x-python",
   "name": "python",
   "nbconvert_exporter": "python",
   "pygments_lexer": "ipython3",
   "version": "3.9.5"
  }
 },
 "nbformat": 4,
 "nbformat_minor": 5
}
