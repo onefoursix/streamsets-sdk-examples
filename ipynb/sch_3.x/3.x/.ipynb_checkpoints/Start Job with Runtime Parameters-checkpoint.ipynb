{
 "cells": [
  {
   "cell_type": "code",
   "execution_count": null,
   "id": "f028d617",
   "metadata": {},
   "outputs": [],
   "source": [
    "# Imports\n",
    "import os\n",
    "from streamsets.sdk import ControlHub"
   ]
  },
  {
   "cell_type": "code",
   "execution_count": null,
   "id": "3856b1d9",
   "metadata": {},
   "outputs": [],
   "source": [
    "job_id = '215ec356-72f3-43b9-a7c5-69481f557137:schbrooks'"
   ]
  },
  {
   "cell_type": "code",
   "execution_count": null,
   "id": "a2a415ee",
   "metadata": {},
   "outputs": [],
   "source": [
    "# Init connection to Control Hub\n",
    "sch = ControlHub('https://trailer.streamsetscloud.com',\n",
    "    username=os.environ['SCH_USERNAME'],\n",
    "    password=os.environ['SCH_PASSWORD'])"
   ]
  },
  {
   "cell_type": "code",
   "execution_count": null,
   "id": "5d42176c",
   "metadata": {},
   "outputs": [],
   "source": [
    "# Get Job\n",
    "job = sch.jobs.get(job_id = job_id)"
   ]
  },
  {
   "cell_type": "code",
   "execution_count": null,
   "id": "f483a879",
   "metadata": {},
   "outputs": [],
   "source": [
    "# Set Runtime Parameters and update the Job\n",
    "job.runtime_parameters = {\"parameter_1\":\"aaa\",\"parameter_2\":\"bbb\"}\n",
    "sch.update_job(job)"
   ]
  },
  {
   "cell_type": "code",
   "execution_count": null,
   "id": "fcff8278",
   "metadata": {},
   "outputs": [],
   "source": [
    "# Start Job\n",
    "sch.start_job(job)"
   ]
  },
  {
   "cell_type": "code",
   "execution_count": null,
   "id": "7cba471a",
   "metadata": {},
   "outputs": [],
   "source": []
  }
 ],
 "metadata": {
  "kernelspec": {
   "display_name": "Python 3 (ipykernel)",
   "language": "python",
   "name": "python3"
  },
  "language_info": {
   "codemirror_mode": {
    "name": "ipython",
    "version": 3
   },
   "file_extension": ".py",
   "mimetype": "text/x-python",
   "name": "python",
   "nbconvert_exporter": "python",
   "pygments_lexer": "ipython3",
   "version": "3.9.5"
  }
 },
 "nbformat": 4,
 "nbformat_minor": 5
}
