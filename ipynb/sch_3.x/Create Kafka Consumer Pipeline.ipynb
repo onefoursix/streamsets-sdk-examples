{
 "cells": [
  {
   "cell_type": "code",
   "execution_count": null,
   "id": "f028d617",
   "metadata": {},
   "outputs": [],
   "source": [
    "# Imports\n",
    "import os\n",
    "from streamsets.sdk import ControlHub, DataCollector"
   ]
  },
  {
   "cell_type": "code",
   "execution_count": null,
   "id": "a2a415ee",
   "metadata": {},
   "outputs": [],
   "source": [
    "# Init connection to Control Hub\n",
    "sch = ControlHub('https://trailer.streamsetscloud.com',\n",
    "    username=os.environ['SCH_USERNAME'],\n",
    "    password=os.environ['SCH_PASSWORD'])"
   ]
  },
  {
   "cell_type": "code",
   "execution_count": null,
   "id": "2601ab8d",
   "metadata": {},
   "outputs": [],
   "source": [
    "# Authoring Data Collector\n",
    "sdc = sch.data_collectors.get(url='https://sequoia.onefoursix.com:18898')"
   ]
  },
  {
   "cell_type": "code",
   "execution_count": null,
   "id": "981a9941",
   "metadata": {},
   "outputs": [],
   "source": [
    "# Get a Pipeline Builder\n",
    "pipeline_builder = sch.get_pipeline_builder(data_collector=sdc)"
   ]
  },
  {
   "cell_type": "code",
   "execution_count": null,
   "id": "3e53128b",
   "metadata": {},
   "outputs": [],
   "source": [
    "# Create an Origin\n",
    "kafka_consumer = pipeline_builder.add_stage('Kafka Multitopic Consumer')"
   ]
  },
  {
   "cell_type": "code",
   "execution_count": null,
   "id": "7409939b",
   "metadata": {},
   "outputs": [],
   "source": [
    "help(kafka_consumer)"
   ]
  },
  {
   "cell_type": "code",
   "execution_count": null,
   "id": "10c824b1",
   "metadata": {},
   "outputs": [],
   "source": [
    "# Set Kafka Consumer Topic List\n",
    "topic_list = []\n",
    "topic_list.append('topic_1000')\n",
    "topic_list.append('topic_1001')\n",
    "topic_list.append('topic_1002')\n",
    "kafka_consumer.topic_list = topic_list"
   ]
  },
  {
   "cell_type": "code",
   "execution_count": null,
   "id": "e434ef7f",
   "metadata": {},
   "outputs": [],
   "source": [
    "# Specify Kafka Consumer Data Format\n",
    "kafka_consumer.data_format = 'JSON'"
   ]
  },
  {
   "cell_type": "code",
   "execution_count": null,
   "id": "0d242191",
   "metadata": {},
   "outputs": [],
   "source": [
    "# Create a Destination\n",
    "trash = pipeline_builder.add_stage('Trash')"
   ]
  },
  {
   "cell_type": "code",
   "execution_count": null,
   "id": "cf5d8bd3",
   "metadata": {},
   "outputs": [],
   "source": [
    "# Create links(s) between pipeline stages\n",
    "kafka_consumer >> trash  "
   ]
  },
  {
   "cell_type": "code",
   "execution_count": null,
   "id": "1f657476",
   "metadata": {},
   "outputs": [],
   "source": [
    "# Build the pipeline\n",
    "pipeline = pipeline_builder.build('SDK Kafka Consumer Pipeline')"
   ]
  },
  {
   "cell_type": "code",
   "execution_count": null,
   "id": "72eaf19e",
   "metadata": {},
   "outputs": [],
   "source": [
    "# Publish the pipeline\n",
    "sch.publish_pipeline(pipeline)"
   ]
  }
 ],
 "metadata": {
  "kernelspec": {
   "display_name": "Python 3 (ipykernel)",
   "language": "python",
   "name": "python3"
  },
  "language_info": {
   "codemirror_mode": {
    "name": "ipython",
    "version": 3
   },
   "file_extension": ".py",
   "mimetype": "text/x-python",
   "name": "python",
   "nbconvert_exporter": "python",
   "pygments_lexer": "ipython3",
   "version": "3.9.5"
  }
 },
 "nbformat": 4,
 "nbformat_minor": 5
}
