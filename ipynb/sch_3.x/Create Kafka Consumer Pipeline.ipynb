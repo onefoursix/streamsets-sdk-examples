{
 "cells": [
  {
   "cell_type": "code",
   "execution_count": 94,
   "id": "f028d617",
   "metadata": {},
   "outputs": [],
   "source": [
    "# Imports\n",
    "import os\n",
    "from streamsets.sdk import ControlHub, DataCollector"
   ]
  },
  {
   "cell_type": "code",
   "execution_count": 95,
   "id": "a2a415ee",
   "metadata": {},
   "outputs": [],
   "source": [
    "# Init connection to Control Hub\n",
    "sch = ControlHub('https://trailer.streamsetscloud.com',\n",
    "    username=os.environ['SCH_USERNAME'],\n",
    "    password=os.environ['SCH_PASSWORD'])"
   ]
  },
  {
   "cell_type": "code",
   "execution_count": 96,
   "id": "2601ab8d",
   "metadata": {},
   "outputs": [],
   "source": [
    "# Authoring Data Collector\n",
    "sdc = sch.data_collectors.get(url='https://sequoia.onefoursix.com:18898')"
   ]
  },
  {
   "cell_type": "code",
   "execution_count": 97,
   "id": "981a9941",
   "metadata": {},
   "outputs": [],
   "source": [
    "# Get a Pipeline Builder\n",
    "pipeline_builder = sch.get_pipeline_builder(data_collector=sdc)"
   ]
  },
  {
   "cell_type": "code",
   "execution_count": 98,
   "id": "3e53128b",
   "metadata": {},
   "outputs": [],
   "source": [
    "# Create an Origin\n",
    "kafka_consumer = pipeline_builder.add_stage('Kafka Multitopic Consumer')"
   ]
  },
  {
   "cell_type": "code",
   "execution_count": 99,
   "id": "7409939b",
   "metadata": {},
   "outputs": [
    {
     "name": "stdout",
     "output_type": "stream",
     "text": [
      "Help on com_streamsets_pipeline_stage_origin_multikafka_MultiKafkaDSource in module streamsets.sdk.sch_models object:\n",
      "\n",
      "class com_streamsets_pipeline_stage_origin_multikafka_MultiKafkaDSource(SchSdcStage)\n",
      " |  com_streamsets_pipeline_stage_origin_multikafka_MultiKafkaDSource(stage, label=None)\n",
      " |  \n",
      " |  Stage: Kafka Multitopic Consumer\n",
      " |  \n",
      " |  Attributes:\n",
      " |  allow_comments                                              line_separator                                              \n",
      " |  allow_extra_columns                                         lines_to_skip                                               \n",
      " |  auth_file                                                   log_format                                                  \n",
      " |  auto_offset_reset                                           lookup_schema_by                                            \n",
      " |  auto_offset_reset_timestamp_in_ms                           max_batch_size_in_records                                   \n",
      " |  avro_schema                                                 max_characters_per_column                                   \n",
      " |  avro_schema_location                                        max_columns                                                 \n",
      " |  basic_auth_user_info                                        max_data_size_in_bytes                                      \n",
      " |  batch_wait_time_in_ms                                       max_line_length                                             \n",
      " |  broker_uri                                                  max_object_length_in_chars                                  \n",
      " |  buffer_size_in_bytes                                        max_record_length_in_chars                                  \n",
      " |  charset                                                     max_templates_in_cache                                      \n",
      " |  comment_character                                           message_type                                                \n",
      " |  comment_marker                                              metadata_refresh_time_in_ms                                 \n",
      " |  compression_format                                          multi_character_field_delimiter                             \n",
      " |  configuration_properties                                    multi_character_line_delimiter                              \n",
      " |  connection                                                  namespaces                                                  \n",
      " |  consumer_group                                              null_constant                                               \n",
      " |  convert_hi_res_time_and_interval                            number_of_threads                                           \n",
      " |  csv_parser                                                  on_parse_error                                              \n",
      " |  custom_delimiter                                            on_record_error                                             \n",
      " |  custom_log4j_format                                         output_field_attributes                                     \n",
      " |  custom_log_format                                           override_stage_configurations                               \n",
      " |  data_format                                                 parse_nulls                                                 \n",
      " |  datagram_packet_format                                      preserve_root_element                                       \n",
      " |  delimited_messages                                          produce_single_record                                       \n",
      " |  delimiter_character                                         protobuf_descriptor_file                                    \n",
      " |  delimiter_element                                           provide_keytab_at_runtime                                   \n",
      " |  delimiter_format_type                                       quote_character                                             \n",
      " |  enable_comments                                             rate_per_second                                             \n",
      " |  enabled_protocols                                           read_all_sheets                                             \n",
      " |  escape_character                                            record_generation_mode                                      \n",
      " |  excel_header_option                                         regular_expression                                          \n",
      " |  exclude_interval                                            retain_original_line                                        \n",
      " |  extra_column_prefix                                         root_field_type                                             \n",
      " |  field_path_to_regex_group_mapping                           runtime_keytab                                              \n",
      " |  field_separator                                             runtime_principal                                           \n",
      " |  file_name_pattern_within_compressed_directory               sasl_mechanism                                              \n",
      " |  grok_pattern                                                schema_id                                                   \n",
      " |  grok_pattern_definition                                     schema_registry_urls                                        \n",
      " |  header_line                                                 schema_subject                                              \n",
      " |  ignore_control_characters                                   security_option                                             \n",
      " |  ignore_empty_lines                                          skip_cells_with_no_header                                   \n",
      " |  import_sheets                                               skip_empty_lines                                            \n",
      " |  include_cells_with_empty_value                              skip_union_indexes                                          \n",
      " |  include_custom_delimiter                                    template_cache_timeout_in_ms                                \n",
      " |  include_field_xpaths                                        topic_list                                                  \n",
      " |  include_timestamps                                          topic_pattern                                               \n",
      " |  json_content                                                topic_subscription_type                                     \n",
      " |  kerberos_service_name                                       trim_stack_trace_to_length                                  \n",
      " |  key_capture_field                                           truststore_file                                             \n",
      " |  key_capture_header_attribute                                truststore_password                                         \n",
      " |  key_capture_mode                                            truststore_type                                             \n",
      " |  key_deserializer                                            typesdb_file_path                                           \n",
      " |  key_password                                                use_custom_delimiter                                        \n",
      " |  keystore_file                                               use_custom_log_format                                       \n",
      " |  keystore_password                                           value_deserializer                                          \n",
      " |  keystore_type                                               verify_checksum\n",
      " |  \n",
      " |  Method resolution order:\n",
      " |      com_streamsets_pipeline_stage_origin_multikafka_MultiKafkaDSource\n",
      " |      SchSdcStage\n",
      " |      streamsets.sdk.sdc_models.Stage\n",
      " |      builtins.object\n",
      " |  \n",
      " |  Methods inherited from SchSdcStage:\n",
      " |  \n",
      " |  use_connection(self, *connections)\n",
      " |  \n",
      " |  ----------------------------------------------------------------------\n",
      " |  Methods inherited from streamsets.sdk.sdc_models.Stage:\n",
      " |  \n",
      " |  __contains__(self, item)\n",
      " |  \n",
      " |  __dir__(self)\n",
      " |      Default dir() implementation.\n",
      " |  \n",
      " |  __ge__(self, other)\n",
      " |      Return self>=value.\n",
      " |  \n",
      " |  __getattr__(self, name)\n",
      " |  \n",
      " |  __init__(self, stage, label=None)\n",
      " |      Initialize self.  See help(type(self)) for accurate signature.\n",
      " |  \n",
      " |  __repr__(self)\n",
      " |      Return repr(self).\n",
      " |  \n",
      " |  __rshift__(self, other)\n",
      " |  \n",
      " |  __setattr__(self, name, value)\n",
      " |      Implement setattr(self, name, value).\n",
      " |  \n",
      " |  add_output(self, *other_stages, event_lane=False)\n",
      " |      Connect output of this stage to another stage.\n",
      " |      \n",
      " |      The __rshift__ operator (`>>`) has been overloaded to invoke this method.\n",
      " |      \n",
      " |      Args:\n",
      " |          other_stage (:py:class:`streamsets.sdk.sdc_models.Stage`): Stage object.\n",
      " |      \n",
      " |      Returns:\n",
      " |          This stage as an instance of :py:class:`streamsets.sdk.sdc_models.Stage`).\n",
      " |  \n",
      " |  set_attributes(self, **attributes)\n",
      " |      Set one or more stage attributes.\n",
      " |      \n",
      " |      Args:\n",
      " |          **attributes: Attributes to set.\n",
      " |      \n",
      " |      Returns:\n",
      " |          This stage as an instance of :py:class:`streamsets.sdk.sdc_models.Stage`.\n",
      " |  \n",
      " |  ----------------------------------------------------------------------\n",
      " |  Readonly properties inherited from streamsets.sdk.sdc_models.Stage:\n",
      " |  \n",
      " |  event_lanes\n",
      " |      Get the stage's list of event lanes.\n",
      " |      \n",
      " |      Returns:\n",
      " |          A :obj:`list` of event lanes.\n",
      " |  \n",
      " |  output_lanes\n",
      " |      Get the stage's list of output lanes.\n",
      " |      \n",
      " |      Returns:\n",
      " |          A :obj:`list` of output lanes.\n",
      " |  \n",
      " |  ----------------------------------------------------------------------\n",
      " |  Data descriptors inherited from streamsets.sdk.sdc_models.Stage:\n",
      " |  \n",
      " |  __dict__\n",
      " |      dictionary for instance variables (if defined)\n",
      " |  \n",
      " |  __weakref__\n",
      " |      list of weak references to the object (if defined)\n",
      " |  \n",
      " |  description\n",
      " |      :obj:`str`: The stage's description.\n",
      " |  \n",
      " |  label\n",
      " |      :obj:`str`: The stage's label.\n",
      " |  \n",
      " |  library\n",
      " |      Get the stage's library.\n",
      " |      \n",
      " |      Returns:\n",
      " |          The stage library as a :obj:`str`.\n",
      " |  \n",
      " |  stage_on_record_error\n",
      " |      The stage's on record error configuration value.\n",
      " |  \n",
      " |  stage_record_preconditions\n",
      " |      The stage's record preconditions configuration value.\n",
      " |  \n",
      " |  stage_required_fields\n",
      " |      The stage's required fields configuration value.\n",
      "\n"
     ]
    }
   ],
   "source": [
    "help(kafka_consumer)"
   ]
  },
  {
   "cell_type": "code",
   "execution_count": 100,
   "id": "10c824b1",
   "metadata": {},
   "outputs": [],
   "source": [
    "# Set Kafka Consumer Topic List\n",
    "topic_list = []\n",
    "topic_list.append('topic_1000')\n",
    "topic_list.append('topic_1001')\n",
    "topic_list.append('topic_1002')\n",
    "kafka_consumer.topic_list = topic_list"
   ]
  },
  {
   "cell_type": "code",
   "execution_count": 101,
   "id": "e434ef7f",
   "metadata": {},
   "outputs": [],
   "source": [
    "# Specify Kafka Consumer Data Format\n",
    "kafka_consumer.data_format = 'JSON'"
   ]
  },
  {
   "cell_type": "code",
   "execution_count": 102,
   "id": "0d242191",
   "metadata": {},
   "outputs": [],
   "source": [
    "# Create a Destination\n",
    "trash = pipeline_builder.add_stage('Trash')"
   ]
  },
  {
   "cell_type": "code",
   "execution_count": 103,
   "id": "cf5d8bd3",
   "metadata": {},
   "outputs": [
    {
     "data": {
      "text/plain": [
       "<com_streamsets_pipeline_stage_destination_devnull_NullDTarget (instance_name=Trash_01)>"
      ]
     },
     "execution_count": 103,
     "metadata": {},
     "output_type": "execute_result"
    }
   ],
   "source": [
    "# Create links(s) between pipeline stages\n",
    "kafka_consumer >> trash  "
   ]
  },
  {
   "cell_type": "code",
   "execution_count": 104,
   "id": "1f657476",
   "metadata": {},
   "outputs": [],
   "source": [
    "# Build the pipeline\n",
    "pipeline = pipeline_builder.build('SDK Kafka Consumer Pipeline')"
   ]
  },
  {
   "cell_type": "code",
   "execution_count": 105,
   "id": "72eaf19e",
   "metadata": {},
   "outputs": [
    {
     "data": {
      "text/plain": [
       "<sdk.sch_api.Command at 0x12cb0c130>"
      ]
     },
     "execution_count": 105,
     "metadata": {},
     "output_type": "execute_result"
    }
   ],
   "source": [
    "# Publish the pipeline\n",
    "sch.publish_pipeline(pipeline)"
   ]
  },
  {
   "cell_type": "code",
   "execution_count": null,
   "id": "7efd31f0",
   "metadata": {},
   "outputs": [],
   "source": []
  },
  {
   "cell_type": "code",
   "execution_count": null,
   "id": "d9dd80f4",
   "metadata": {},
   "outputs": [],
   "source": []
  }
 ],
 "metadata": {
  "kernelspec": {
   "display_name": "Python 3 (ipykernel)",
   "language": "python",
   "name": "python3"
  },
  "language_info": {
   "codemirror_mode": {
    "name": "ipython",
    "version": 3
   },
   "file_extension": ".py",
   "mimetype": "text/x-python",
   "name": "python",
   "nbconvert_exporter": "python",
   "pygments_lexer": "ipython3",
   "version": "3.9.5"
  }
 },
 "nbformat": 4,
 "nbformat_minor": 5
}
